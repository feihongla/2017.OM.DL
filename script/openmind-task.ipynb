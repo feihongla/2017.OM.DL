{
 "cells": [
  {
   "cell_type": "code",
   "execution_count": 49,
   "metadata": {
    "ExecuteTime": {
     "end_time": "2017-02-20T08:49:19.196624",
     "start_time": "2017-02-20T08:49:19.189960"
    },
    "collapsed": false,
    "deletable": true,
    "editable": true
   },
   "outputs": [],
   "source": [
    "# Imports\n",
    "\n",
    "# pandas\n",
    "import pandas as pd\n",
    "pd.set_option(\"display.max_columns\",999)\n",
    "pd.set_option(\"display.max_rows\",150)\n",
    "\n",
    "# re\n",
    "import re\n",
    "\n",
    "# jieba\n",
    "import jieba "
   ]
  },
  {
   "cell_type": "code",
   "execution_count": 15,
   "metadata": {
    "ExecuteTime": {
     "end_time": "2017-02-19T10:06:55.756008",
     "start_time": "2017-02-19T10:06:55.752159"
    },
    "collapsed": true,
    "deletable": true,
    "editable": true
   },
   "outputs": [],
   "source": [
    "# 默认二元词组，每个词长度 > 1"
   ]
  },
  {
   "cell_type": "code",
   "execution_count": 84,
   "metadata": {
    "ExecuteTime": {
     "end_time": "2017-02-20T09:00:51.573160",
     "start_time": "2017-02-20T09:00:51.548332"
    },
    "collapsed": false,
    "deletable": true,
    "editable": true
   },
   "outputs": [],
   "source": [
    "# Read file as string\n",
    "def Readfile(file):\n",
    "    file = '../data/' + file\n",
    "    with open(file, 'r') as f:\n",
    "        s = f.read()\n",
    "    return s\n",
    "\n",
    "# Judge couple words we want\n",
    "def Judge(i):\n",
    "    j1 = not bool(re.search(r'\\d|\\W',i)) # Remove number and none-chapter\n",
    "    j2 = (len(i)>1) # length > 1\n",
    "    return (j1 and j2)\n",
    "\n",
    "# Cut Word by jieba and return list , make sure any element containing one word.\n",
    "def WordCut(s):\n",
    "    seg_list = jieba.lcut(s)\n",
    "    return [i for i in seg_list if Judge(i)]\n",
    "\n",
    "# Create couple words,output format [\"a b\",\"b c\",...]\n",
    "def CoupleWords(l):   \n",
    "    return list(set([l[i] + ' ' + l[i+1] for i in range(0,len(l)-1)])) # 去重\n",
    "\n",
    "# Return Top 10 couple words and their counts\n",
    "def Top(file):\n",
    "    s = Readfile(file)\n",
    "    l = WordCut(s)\n",
    "    word = CoupleWords(l)    \n",
    "    count = [s.count(i.replace(' ','')) for i in word]\n",
    "    df = pd.DataFrame(\n",
    "        {'couple words':word,\n",
    "         'count':count\n",
    "        })[['couple words','count']]\\\n",
    "        .sort_values(['count'],ascending=0)\n",
    "    \n",
    "    return df[df['count']>0]"
   ]
  },
  {
   "cell_type": "code",
   "execution_count": 85,
   "metadata": {
    "ExecuteTime": {
     "end_time": "2017-02-20T09:01:16.600068",
     "start_time": "2017-02-20T09:00:52.495766"
    },
    "collapsed": false,
    "deletable": true,
    "editable": true
   },
   "outputs": [],
   "source": [
    "top = Top('clean.txt')"
   ]
  },
  {
   "cell_type": "code",
   "execution_count": 86,
   "metadata": {
    "ExecuteTime": {
     "end_time": "2017-02-20T09:01:18.517401",
     "start_time": "2017-02-20T09:01:18.506357"
    },
    "collapsed": false,
    "deletable": true,
    "editable": true
   },
   "outputs": [
    {
     "data": {
      "text/html": [
       "<div>\n",
       "<table border=\"1\" class=\"dataframe\">\n",
       "  <thead>\n",
       "    <tr style=\"text-align: right;\">\n",
       "      <th></th>\n",
       "      <th>couple words</th>\n",
       "      <th>count</th>\n",
       "    </tr>\n",
       "  </thead>\n",
       "  <tbody>\n",
       "    <tr>\n",
       "      <th>66649</th>\n",
       "      <td>没有 什么</td>\n",
       "      <td>57</td>\n",
       "    </tr>\n",
       "    <tr>\n",
       "      <th>21484</th>\n",
       "      <td>这种 情况</td>\n",
       "      <td>57</td>\n",
       "    </tr>\n",
       "    <tr>\n",
       "      <th>37998</th>\n",
       "      <td>因为 他们</td>\n",
       "      <td>56</td>\n",
       "    </tr>\n",
       "    <tr>\n",
       "      <th>72980</th>\n",
       "      <td>这个 问题</td>\n",
       "      <td>55</td>\n",
       "    </tr>\n",
       "    <tr>\n",
       "      <th>38415</th>\n",
       "      <td>如果 我们</td>\n",
       "      <td>45</td>\n",
       "    </tr>\n",
       "    <tr>\n",
       "      <th>43698</th>\n",
       "      <td>所有 这些</td>\n",
       "      <td>40</td>\n",
       "    </tr>\n",
       "    <tr>\n",
       "      <th>6028</th>\n",
       "      <td>这种 观点</td>\n",
       "      <td>39</td>\n",
       "    </tr>\n",
       "    <tr>\n",
       "      <th>21680</th>\n",
       "      <td>这个 世界</td>\n",
       "      <td>35</td>\n",
       "    </tr>\n",
       "    <tr>\n",
       "      <th>24900</th>\n",
       "      <td>我们 可以</td>\n",
       "      <td>35</td>\n",
       "    </tr>\n",
       "    <tr>\n",
       "      <th>77525</th>\n",
       "      <td>他们 自己</td>\n",
       "      <td>34</td>\n",
       "    </tr>\n",
       "  </tbody>\n",
       "</table>\n",
       "</div>"
      ],
      "text/plain": [
       "      couple words  count\n",
       "66649        没有 什么     57\n",
       "21484        这种 情况     57\n",
       "37998        因为 他们     56\n",
       "72980        这个 问题     55\n",
       "38415        如果 我们     45\n",
       "43698        所有 这些     40\n",
       "6028         这种 观点     39\n",
       "21680        这个 世界     35\n",
       "24900        我们 可以     35\n",
       "77525        他们 自己     34"
      ]
     },
     "execution_count": 86,
     "metadata": {},
     "output_type": "execute_result"
    }
   ],
   "source": [
    "top[:10]"
   ]
  },
  {
   "cell_type": "code",
   "execution_count": null,
   "metadata": {
    "collapsed": true
   },
   "outputs": [],
   "source": []
  }
 ],
 "metadata": {
  "hide_input": false,
  "kernelspec": {
   "display_name": "Python 3",
   "language": "python",
   "name": "python3"
  },
  "language_info": {
   "codemirror_mode": {
    "name": "ipython",
    "version": 3
   },
   "file_extension": ".py",
   "mimetype": "text/x-python",
   "name": "python",
   "nbconvert_exporter": "python",
   "pygments_lexer": "ipython3",
   "version": "3.5.2"
  },
  "nav_menu": {},
  "toc": {
   "navigate_menu": true,
   "number_sections": true,
   "sideBar": true,
   "threshold": 6,
   "toc_cell": false,
   "toc_section_display": "block",
   "toc_window_display": false
  }
 },
 "nbformat": 4,
 "nbformat_minor": 2
}
